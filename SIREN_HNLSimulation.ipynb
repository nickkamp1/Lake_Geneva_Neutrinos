{
 "cells": [
  {
   "cell_type": "code",
   "execution_count": 1,
   "id": "a3fd3bed-c264-4495-be8d-8de2b9cb7e35",
   "metadata": {},
   "outputs": [],
   "source": [
    "%load_ext autoreload\n",
    "%autoreload 2\n",
    "from SIREN_Simulation import RunLHCbHNLSimulation\n",
    "import pandas as pd\n",
    "import awkward as ak\n",
    "import numpy as np\n"
   ]
  },
  {
   "cell_type": "code",
   "execution_count": null,
   "id": "6f70a9dc-be9d-4dc1-97a1-3ad6696922c8",
   "metadata": {},
   "outputs": [
    {
     "name": "stdout",
     "output_type": "stream",
     "text": [
      "ParticleType.N4\n",
      "Warning: nuclear density for He4 not tabulated in Nuclear Data Table. Using symmetrized Fermi form factor instead.\n",
      "Warning: nuclear density for N14 not tabulated in Nuclear Data Table. Using symmetrized Fermi form factor instead.\n"
     ]
    }
   ],
   "source": [
    "RunLHCbHNLSimulation(\"LHC13\",\"EPOSLHC\",\"light\",\n",
    "                      100000,\"Data/SIREN/Output/hnl_test\",\n",
    "                      \"1000\", 0, 1, 0)"
   ]
  },
  {
   "cell_type": "code",
   "execution_count": 13,
   "id": "b6f181db-2759-4f77-ac17-1e929d9ff06c",
   "metadata": {},
   "outputs": [],
   "source": [
    "data = ak.from_parquet(\"Data/SIREN/Output/hnl_test.parquet\")"
   ]
  },
  {
   "cell_type": "code",
   "execution_count": 16,
   "id": "06c6d57c-8de2-4742-997b-6ecdced1e5c4",
   "metadata": {},
   "outputs": [
    {
     "data": {
      "text/html": [
       "<pre>[[[5914, -2000001006], [5910, 13, -13]],\n",
       " [[5914, -2000001006], [5910, 13, -13]],\n",
       " [[5914, -2000001006], [5910, 13, -13]],\n",
       " [[5914, -2000001006], [5910, 13, -13]],\n",
       " [[5914, -2000001006], [5910, 13, -13]],\n",
       " [[5914, -2000001006], [5910, 13, -13]],\n",
       " [[5914, -2000001006], [5910, 13, -13]],\n",
       " [[5914, -2000001006], [5910, 13, -13]],\n",
       " [[5914, -2000001006], [5910, 13, -13]],\n",
       " [[5914, -2000001006], [5910, 13, -13]],\n",
       " ...,\n",
       " [[5914, -2000001006], [5910, 13, -13]],\n",
       " [[5914, -2000001006], [5910, 13, -13]],\n",
       " [[5914, -2000001006], [5910, 13, -13]],\n",
       " [[5914, -2000001006], [5910, 13, -13]],\n",
       " [[5914, -2000001006], [5910, 13, -13]],\n",
       " [[5914, -2000001006], [5910, 13, -13]],\n",
       " [[5914, -2000001006], [5910, 13, -13]],\n",
       " [[5914, -2000001006], [5910, 13, -13]],\n",
       " [[5914, -2000001006], [5910, 13, -13]]]\n",
       "----------------------------------------\n",
       "type: 100 * var * var * int64</pre>"
      ],
      "text/plain": [
       "<Array [[[5914, -2000001006], [...]], ...] type='100 * var * var * int64'>"
      ]
     },
     "execution_count": 16,
     "metadata": {},
     "output_type": "execute_result"
    }
   ],
   "source": [
    "data.secondary_types[100:200]"
   ]
  },
  {
   "cell_type": "code",
   "execution_count": 18,
   "id": "715b07eb-e2e4-4977-9572-810409037c00",
   "metadata": {},
   "outputs": [
    {
     "data": {
      "text/plain": [
       "array([5.00000000e-08, 1.94076672e-07, 7.53315095e-07, 2.92401774e-06,\n",
       "       1.13496727e-05, 4.40541340e-05, 1.70997595e-04, 6.63732883e-04,\n",
       "       2.57630139e-03, 1.00000000e-02])"
      ]
     },
     "execution_count": 18,
     "metadata": {},
     "output_type": "execute_result"
    }
   ],
   "source": [
    "np.geomspace(5e-8,1e-2,10)"
   ]
  },
  {
   "cell_type": "code",
   "execution_count": null,
   "id": "b0990db4-ff5d-437b-a7e1-4122febefa7f",
   "metadata": {},
   "outputs": [],
   "source": []
  }
 ],
 "metadata": {
  "kernelspec": {
   "display_name": "lienv",
   "language": "python",
   "name": "lienv"
  },
  "language_info": {
   "codemirror_mode": {
    "name": "ipython",
    "version": 3
   },
   "file_extension": ".py",
   "mimetype": "text/x-python",
   "name": "python",
   "nbconvert_exporter": "python",
   "pygments_lexer": "ipython3",
   "version": "3.10.13"
  }
 },
 "nbformat": 4,
 "nbformat_minor": 5
}
