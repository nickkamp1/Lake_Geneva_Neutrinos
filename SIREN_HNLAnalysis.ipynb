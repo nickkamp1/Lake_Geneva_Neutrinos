{
 "cells": [
  {
   "cell_type": "code",
   "execution_count": null,
   "id": "715b07eb-e2e4-4977-9572-810409037c00",
   "metadata": {},
   "outputs": [],
   "source": [
    "import awkward as ak\n",
    "import matplotlib.pyplot as plt\n",
    "import numpy as np\n",
    "\n",
    "# Remove empty sublists within each list\n",
    "def clean_array(array):\n",
    "    return np.array(np.squeeze(ak.Array([[sublist for sublist in inner_list if len(sublist) > 0] for inner_list in array])))\n"
   ]
  },
  {
   "cell_type": "code",
   "execution_count": 27,
   "id": "859278f6",
   "metadata": {},
   "outputs": [
    {
     "data": {
      "text/html": [
       "<pre>[[1.66e-12, 0.953],\n",
       " [6.7e-14, 1],\n",
       " [7.15e-14, 1],\n",
       " [6.33e-13, 0.993],\n",
       " [3.12e-13, 0.993],\n",
       " [9.92e-13, 0.997],\n",
       " [2.88e-13, 0.998],\n",
       " [2.49e-12, 0.98],\n",
       " [1.38e-13, 0.999],\n",
       " [2.65e-13, 0.993],\n",
       " ...,\n",
       " [7.85e-14, 1],\n",
       " [9.15e-14, 0.999],\n",
       " [5.81e-14, 0.99],\n",
       " [2.68e-13, 0.946],\n",
       " [3.99e-13, 1],\n",
       " [3.36e-13, 0.999],\n",
       " [6.03e-13, 0.959],\n",
       " [3.64e-13, 1],\n",
       " [1.17e-12, 0.936]]\n",
       "---------------------------\n",
       "backend: cpu\n",
       "nbytes: 240.0 kB\n",
       "type: 10000 * var * float64</pre>"
      ],
      "text/plain": [
       "<Array [[1.66e-12, 0.953], ..., [1.17e-12, ...]] type='10000 * var * float64'>"
      ]
     },
     "execution_count": 27,
     "metadata": {},
     "output_type": "execute_result"
    }
   ],
   "source": [
    "data = ak.from_parquet(\"hnl_test.parquet\")\n",
    "data.int_probs"
   ]
  },
  {
   "cell_type": "code",
   "execution_count": 30,
   "id": "31058df5",
   "metadata": {},
   "outputs": [
    {
     "data": {
      "text/plain": [
       "2.0789167734311578"
      ]
     },
     "execution_count": 30,
     "metadata": {},
     "output_type": "execute_result"
    }
   ],
   "source": [
    "sum(data.weights*data.hit_mask_muon0_survival)"
   ]
  },
  {
   "cell_type": "code",
   "execution_count": 4,
   "id": "f4bc6e0c-4919-43e1-aa74-e5c3c5e7146d",
   "metadata": {},
   "outputs": [],
   "source": [
    "import siren\n",
    "import os\n",
    "# Now include DIS interaction\n",
    "cross_section_model = \"HNLDISSplines\"\n",
    "\n",
    "xsfiledir = siren.utilities.get_cross_section_model_path(cross_section_model)\n",
    "\n",
    "# Cross Section Model\n",
    "target_type = siren.dataclasses.Particle.ParticleType.Nucleon\n",
    "\n",
    "nutype = \"nu\"\n",
    "primary = 14\n",
    "primary_type = (siren.dataclasses.Particle.ParticleType)(primary)\n",
    "\n",
    "m4 = \"0002000\"\n",
    "Ue4 = 0\n",
    "Umu4 = 0.01\n",
    "Utau4 = 0\n",
    "\n",
    "HNL_DIS_xs = siren.interactions.HNLDISFromSpline(\n",
    "    os.path.join(xsfiledir, \"M_0000000MeV/dsdxdy-%s-N-nc-GRV98lo_patched_central.fits\"%nutype),\n",
    "    os.path.join(xsfiledir, \"M_%sMeV/sigma-%s-N-nc-GRV98lo_patched_central.fits\"%(m4,nutype)),\n",
    "    float(m4)*1e-3,\n",
    "    [Ue4,Umu4,Utau4],\n",
    "    siren.utilities.Constants.isoscalarMass,\n",
    "    1,\n",
    "    [primary_type],\n",
    "    [target_type],\n",
    ")\n",
    "xsfiledir = \"/n/holylfs05/LABS/arguelles_delgado_lab/Everyone/pweigel/cross_sections/20241017\"\n",
    "\n",
    "# Cross Section Model\n",
    "target_type = siren.dataclasses.Particle.ParticleType.Nucleon\n",
    "nutype = \"neutrino\"\n",
    "nuflavor = \"muon\"\n",
    "xs_mode = \"NC\"\n",
    "minQ2 = 1\n",
    "\n",
    "DIS_xs = siren.interactions.DISFromSpline(\n",
    "        os.path.join(xsfiledir, \"wcg24b_dsdxdy_%s_%s_%s_isoscalar.fits\"%(xs_mode,nuflavor,nutype)),\n",
    "        os.path.join(xsfiledir, \"wcg24b_sigma_%s_%s_%s_isoscalar.fits\"%(xs_mode,nuflavor,nutype)),\n",
    "        1,siren.utilities.Constants.isoscalarMass,minQ2,\n",
    "        [primary_type],\n",
    "        [target_type], \"cm\"\n",
    "    )"
   ]
  },
  {
   "cell_type": "code",
   "execution_count": 11,
   "id": "b624bc2c-f619-41b6-b52c-ab14ce2b9339",
   "metadata": {},
   "outputs": [
    {
     "data": {
      "text/plain": [
       "1.9537232154384104e-37"
      ]
     },
     "execution_count": 11,
     "metadata": {},
     "output_type": "execute_result"
    }
   ],
   "source": [
    "\n",
    "DIS_xs.TotalCrossSection(primary_type,100) # cm^2"
   ]
  },
  {
   "cell_type": "code",
   "execution_count": 12,
   "id": "325a80e2-6229-4c79-b66c-30deedeae0ca",
   "metadata": {},
   "outputs": [
    {
     "data": {
      "text/plain": [
       "1.8053350135272425e-41"
      ]
     },
     "execution_count": 12,
     "metadata": {},
     "output_type": "execute_result"
    }
   ],
   "source": [
    "HNL_DIS_xs.TotalCrossSection(primary_type,100)# * 1e18 * siren.utilities.Constants.hbarc**2 * 1e4 # cm^2"
   ]
  },
  {
   "cell_type": "code",
   "execution_count": null,
   "id": "6671cce4-55cc-4038-97d9-43b1db44029b",
   "metadata": {},
   "outputs": [],
   "source": []
  }
 ],
 "metadata": {
  "kernelspec": {
   "display_name": "Python 3",
   "language": "python",
   "name": "python3"
  },
  "language_info": {
   "codemirror_mode": {
    "name": "ipython",
    "version": 3
   },
   "file_extension": ".py",
   "mimetype": "text/x-python",
   "name": "python",
   "nbconvert_exporter": "python",
   "pygments_lexer": "ipython3",
   "version": "3.10.13"
  }
 },
 "nbformat": 4,
 "nbformat_minor": 5
}
