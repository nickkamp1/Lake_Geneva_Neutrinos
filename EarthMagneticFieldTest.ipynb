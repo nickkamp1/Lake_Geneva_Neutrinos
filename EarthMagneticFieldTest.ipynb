{
 "cells": [
  {
   "cell_type": "code",
   "execution_count": 5,
   "id": "56040bcc-1877-4800-bcad-2eefc1e33701",
   "metadata": {},
   "outputs": [],
   "source": [
    "import numpy as np\n",
    "import matplotlib.pyplot as plt\n",
    "\n",
    "B_Earth = 25e-6 # T\n",
    "m_muon = 0.1056 # GeV\n",
    "e = 1.602e-19 # Coulombs per mu\n",
    "c = 3e8 # m/s\n",
    "kg_to_GeV = 5.61e26\n"
   ]
  },
  {
   "cell_type": "markdown",
   "id": "445ba6c7-095c-4b08-81d4-b451afb83c6c",
   "metadata": {},
   "source": [
    "## Lorentz force\n",
    "\n",
    "$F = q \\vec{v} \\times \\vec{B}$\n",
    "\n",
    "assume $\\vec{v} \\equiv v \\hat{z}$ and $\\vec{B} \\equiv B \\hat{x}$\n",
    "\n",
    "Note $v = \\beta c = (pc/E) c = (\\sqrt{E^2 - (mc^2)^2}/E)c= \\sqrt{1 - (mc^2/E)^2} c$\n",
    "\n",
    "Acceleration: $a = F/m = qvB/m = q B c^3 \\sqrt{(mc^2)^{-2} - (E)^{-2}}$"
   ]
  },
  {
   "cell_type": "code",
   "execution_count": 28,
   "id": "26b5be85-7704-4e7f-8218-37f5fcbf8825",
   "metadata": {},
   "outputs": [],
   "source": [
    "def LorentzAcceleration(E_muon):\n",
    "    v = np.sqrt(1-(m_muon/E_muon)**2)*c # m/s\n",
    "    a = e*v*B_Earth/(m_muon/kg_to_GeV) # Coulombs m/s A / kg = m/s^2\n",
    "    return a\n",
    "\n",
    "def BendingRadius(E_muon):\n",
    "    p_muon = np.sqrt(E_muon**2 - m_muon**2)\n",
    "    return p_muon / (0.3 * B_Earth) # eq 11.5 grupen\n",
    "    \n",
    "def LorentzDeflection(E_muon,dz):\n",
    "    vz = np.sqrt(1-(m_muon/E_muon)**2)*c # m/s\n",
    "    dt = dz/vz\n",
    "    a = LorentzAcceleration(E_muon)\n",
    "    print(a/1e12)\n",
    "    dx = 1./2. * a * dt**2\n",
    "    return dx\n",
    "\n",
    "def DeflectionAngle(E_muon,dz):\n",
    "    return dz/BendingRadius(E_muon)\n",
    "    "
   ]
  },
  {
   "cell_type": "code",
   "execution_count": 30,
   "id": "4bedb6e6-05cb-42d1-9824-00fed9780a87",
   "metadata": {},
   "outputs": [
    {
     "data": {
      "text/plain": [
       "[]"
      ]
     },
     "execution_count": 30,
     "metadata": {},
     "output_type": "execute_result"
    },
    {
     "data": {
      "image/png": "[encoded data removed]",
      "text/plain": [
       "<Figure size 432x288 with 1 Axes>"
      ]
     },
     "metadata": {
      "needs_background": "light"
     },
     "output_type": "display_data"
    }
   ],
   "source": [
    "dzrange = np.logspace(1,4,100)\n",
    "Energies = [1e1,1e2,1e3]\n",
    "for E_muon in Energies:\n",
    "    plt.plot(dzrange,DeflectionAngle(E_muon,dzrange),label=r\"$E_\\mu=%2.2e$\"%E_muon)\n",
    "plt.loglog()"
   ]
  },
  {
   "cell_type": "code",
   "execution_count": null,
   "id": "d6ed1206-e862-497a-9344-55591db15505",
   "metadata": {},
   "outputs": [],
   "source": []
  }
 ],
 "metadata": {
  "kernelspec": {
   "display_name": "Python 3 (ipykernel)",
   "language": "python",
   "name": "python3"
  },
  "language_info": {
   "codemirror_mode": {
    "name": "ipython",
    "version": 3
   },
   "file_extension": ".py",
   "mimetype": "text/x-python",
   "name": "python",
   "nbconvert_exporter": "python",
   "pygments_lexer": "ipython3",
   "version": "3.9.12"
  }
 },
 "nbformat": 4,
 "nbformat_minor": 5
}
