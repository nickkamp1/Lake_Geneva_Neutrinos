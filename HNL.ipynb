{
 "cells": [
  {
   "cell_type": "code",
   "execution_count": 1,
   "id": "83bf9224-58ee-4043-ade2-542439bff324",
   "metadata": {},
   "outputs": [],
   "source": [
    "%load_ext autoreload\n",
    "%autoreload 2\n",
    "import siren\n",
    "from HNL import get_decay_length,time_delay\n",
    "import numpy as np\n",
    "import matplotlib.pyplot as plt\n",
    "from matplotlib.colors import LogNorm"
   ]
  },
  {
   "cell_type": "code",
   "execution_count": 2,
   "id": "c5d12bdc-c578-4530-a3df-a2119b988926",
   "metadata": {},
   "outputs": [],
   "source": [
    "N = 50\n",
    "Urange = np.logspace(-15,0,N)\n",
    "mrange = np.logspace(0,3,N)\n",
    "energies = np.logspace(2,np.log10(5e3),20)\n",
    "\n",
    "decay_lengths = {E:np.zeros((N,N)) for E in energies}\n",
    "time_delays = {E:np.zeros((N,N)) for E in energies}\n",
    "\n",
    "for iu,U in enumerate(Urange):\n",
    "    for im,m in enumerate(mrange):\n",
    "        for energy in energies:\n",
    "            if energy>m:\n",
    "                decay_lengths[energy][im,iu] = get_decay_length(m,Ue4=np.sqrt(U),Umu4=0,Utau4=0,energy=energy)\n",
    "                time_delays[energy][im,iu] = time_delay(energy,m,decay_lengths[energy][im,iu])\n",
    "            else:\n",
    "                decay_lengths[energy][im,iu] = 0\n",
    "                time_delays[energy][im,iu] = 0\n",
    "        "
   ]
  },
  {
   "cell_type": "code",
   "execution_count": 3,
   "id": "0e017e34-3a3f-43e9-a4c8-c54ce3ff7612",
   "metadata": {},
   "outputs": [
    {
     "data": {
      "text/plain": [
       "<Figure size 640x480 with 0 Axes>"
      ]
     },
     "metadata": {},
     "output_type": "display_data"
    }
   ],
   "source": [
    "for energy in energies:\n",
    "    #plt.pcolor(mrange,Urange,decay_lengths[energy].T,norm=LogNorm(vmin=1e-10,vmax=1e10),cmap=\"Purples\")\n",
    "    #plt.colorbar()\n",
    "    levels = [1,1e1,1e2,1e3]\n",
    "    colors = [\"red\",\"blue\",\"green\",\"purple\"]\n",
    "    plt.contour(mrange,Urange,decay_lengths[energy].T,\n",
    "                levels=levels,colors=colors)\n",
    "    for level,color in zip(levels,colors):\n",
    "        plt.plot([],[],color=color,label=r\"$L_{\\rm dec} = 10^%d$ m\"%np.log10(level))\n",
    "    plt.contour(mrange,Urange,time_delays[energy].T,\n",
    "                levels=[1,1e1,1e2,1e3],colors=[\"red\",\"blue\",\"green\",\"purple\"],linestyles=\"--\")\n",
    "    for level,color in zip(levels,colors):\n",
    "        plt.plot([],[],color=color,label=r\"$\\Delta t = 10^%d$ ns\"%np.log10(level),ls=\"--\")\n",
    "    plt.loglog()\n",
    "    plt.xlabel(r\"$m_4$ / GeV\",fontsize=14) \n",
    "    plt.ylabel(r\"$|U_{\\mu 4}|^2$\",fontsize=14) \n",
    "    plt.legend(ncol=2,title=r\"$E_\\nu = %1.1f$ GeV\"%energy)\n",
    "    plt.savefig(\"Figures/HNL/TimeDelays_%2.2e.png\"%energy,dpi=100)\n",
    "    #plt.show()\n",
    "    plt.clf()\n",
    "    #break"
   ]
  },
  {
   "cell_type": "code",
   "execution_count": 4,
   "id": "1242db66-dfaa-4503-8542-40a2673b359b",
   "metadata": {},
   "outputs": [
    {
     "name": "stderr",
     "output_type": "stream",
     "text": [
      "/tmp/ipykernel_2866656/1646977411.py:5: DeprecationWarning: Starting with ImageIO v3 the behavior of this function will switch to that of iio.v3.imread. To keep the current behavior (and make this warning disappear) use `import imageio.v2 as imageio` or call `imageio.v2.imread` directly.\n",
      "  image = imageio.imread(filename)\n"
     ]
    }
   ],
   "source": [
    "import imageio\n",
    "with imageio.get_writer(\"Figures/HNL/TimeDelays.png\", mode='I') as writer:\n",
    "    for energy in energies:\n",
    "        filename = \"Figures/HNL/TimeDelays_%2.2e.png\"%energy\n",
    "        image = imageio.imread(filename)\n",
    "        writer.append_data(image)"
   ]
  },
  {
   "cell_type": "code",
   "execution_count": null,
   "id": "3510377b-13c6-4540-a72d-e1107f1f3f7e",
   "metadata": {},
   "outputs": [],
   "source": []
  }
 ],
 "metadata": {
  "kernelspec": {
   "display_name": "lienv",
   "language": "python",
   "name": "lienv"
  },
  "language_info": {
   "codemirror_mode": {
    "name": "ipython",
    "version": 3
   },
   "file_extension": ".py",
   "mimetype": "text/x-python",
   "name": "python",
   "nbconvert_exporter": "python",
   "pygments_lexer": "ipython3",
   "version": "3.10.13"
  }
 },
 "nbformat": 4,
 "nbformat_minor": 5
}
