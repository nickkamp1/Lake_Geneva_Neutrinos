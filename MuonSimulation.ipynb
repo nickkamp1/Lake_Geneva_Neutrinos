{
 "cells": [
  {
   "cell_type": "code",
   "execution_count": null,
   "id": "4993f1b5-7612-4bfe-9dc0-4ca85e2bab3d",
   "metadata": {},
   "outputs": [],
   "source": [
    "%load_ext autoreload\n",
    "%autoreload 2\n",
    "import matplotlib.pyplot as plt\n",
    "import matplotlib.colors as mcolors\n",
    "import matplotlib\n",
    "plt.style.use('figures.mplstyle')\n",
    "import leptoninjector as LI\n",
    "from MuonSimulationHelpers import *"
   ]
  },
  {
   "cell_type": "code",
   "execution_count": null,
   "id": "58075d1b-07f7-43a9-9372-840fb073209b",
   "metadata": {},
   "outputs": [],
   "source": [
    "Erange = np.logspace(2,10,100)\n",
    "for k in DIS_xs:\n",
    "    if 'bar' in k:\n",
    "        xs = np.array([DIS_xs[k].TotalCrossSection(numubar,E,target_type) for E in Erange])\n",
    "        plt.plot(Erange,xs,label=r'$\\overline{\\nu}$' + k[-2:],ls='--')\n",
    "#         for primary,tag in zip([nuebar,numubar,nutaubar],\n",
    "#                                [r'$\\overline{\\nu}_e$',r'$\\overline{\\nu}_\\mu$',r'$\\overline{\\nu}_\\tau$']):\n",
    "            \n",
    "#             xs = np.array([DIS_xs[k].TotalCrossSection(primary,E,target_type) for E in Erange])\n",
    "#             plt.plot(Erange,xs,label=tag + k[-2:],ls='--')\n",
    "    else:\n",
    "        xs = np.array([DIS_xs[k].TotalCrossSection(numu,E,target_type) for E in Erange])\n",
    "        plt.plot(Erange,xs,label=r'$\\nu$' + k[-2:])\n",
    "#         for primary,tag in zip([nue,numu,nutau],\n",
    "#                                [r'$\\nu_e$',r'${\\nu}_\\mu$',r'${\\nu}_\\tau$']):\n",
    "            \n",
    "#             xs = np.array([DIS_xs[k].TotalCrossSection(primary,E,target_type) for E in Erange])\n",
    "#             plt.plot(Erange,xs,label=tag + k[-2:])\n",
    "plt.loglog()\n",
    "plt.legend()\n",
    "plt.show()"
   ]
  },
  {
   "cell_type": "code",
   "execution_count": null,
   "id": "cdcf5b9c-47e4-412d-b6ed-a664a588aafd",
   "metadata": {},
   "outputs": [],
   "source": [
    "N = 10000\n",
    "light_simulation = MuonSimulation('Data/MuonSimulation/Large_EPOSLHC_light.parquet')\n",
    "# light_simulation.SampleSecondaryMomenta(N)\n",
    "# light_simulation.DumpData('Data/MuonSimulation/Large_EPOSLHC_light.parquet')\n",
    "charm_simulation = MuonSimulation('Data/MuonSimulation/Large_BKRS_charm.parquet')\n",
    "# charm_simulation.SampleSecondaryMomenta(N)\n",
    "# charm_simulation.DumpData('Data/MuonSimulation/Large_BKRS_charm.parquet')"
   ]
  },
  {
   "cell_type": "code",
   "execution_count": null,
   "id": "144bf10d-f7b9-43a9-84ee-0a22114c10e5",
   "metadata": {},
   "outputs": [],
   "source": [
    "kwargs = {'bins':np.logspace(-1,4,100),\n",
    "          'histtype':'step',\n",
    "          'weights':light_simulation.data['wgt']*150*1000}\n",
    "\n",
    "momenta = np.array([light_simulation.data['E'],\n",
    "                   light_simulation.data['px'],\n",
    "                   light_simulation.data['py'],\n",
    "                   light_simulation.data['pz']]).T\n",
    "muon_momenta = np.array([light_simulation.data['E_lep'],\n",
    "                   light_simulation.data['px_lep'],\n",
    "                   light_simulation.data['py_lep'],\n",
    "                   light_simulation.data['pz_lep']]).T\n",
    "target_momenta = np.array([light_simulation.data['E_had'],\n",
    "                   light_simulation.data['px_had'],\n",
    "                   light_simulation.data['py_had'],\n",
    "                   light_simulation.data['pz_had']]).T\n",
    "plt.hist(momenta[:,0],color='r',label='neutrino',**kwargs)\n",
    "kwargs['weights'] = light_simulation.data['wgt']*150*1000*len(light_simulation.data)/N\n",
    "plt.hist(muon_momenta[:,0],color='b',label='lepton',**kwargs)\n",
    "plt.hist(target_momenta[:,0],color='g',label='target',**kwargs)\n",
    "\n",
    "kwargs['ls'] = '--'\n",
    "kwargs['weights'] = charm_simulation.data['wgt']*150*1000\n",
    "\n",
    "momenta = np.array([charm_simulation.data['E'],\n",
    "                   charm_simulation.data['px'],\n",
    "                   charm_simulation.data['py'],\n",
    "                   charm_simulation.data['pz']]).T\n",
    "muon_momenta = np.array([charm_simulation.data['E_lep'],\n",
    "                   charm_simulation.data['px_lep'],\n",
    "                   charm_simulation.data['py_lep'],\n",
    "                   charm_simulation.data['pz_lep']]).T\n",
    "target_momenta = np.array([charm_simulation.data['E_had'],\n",
    "                   charm_simulation.data['px_had'],\n",
    "                   charm_simulation.data['py_had'],\n",
    "                   charm_simulation.data['pz_had']]).T\n",
    "plt.hist(momenta[:,0],color='r',**kwargs)\n",
    "kwargs['weights'] = charm_simulation.data['wgt']*150*1000*len(charm_simulation.data)/N\n",
    "plt.hist(muon_momenta[:,0],color='b',**kwargs)\n",
    "plt.hist(target_momenta[:,0],color='g',**kwargs)\n",
    "\n",
    "plt.plot([],[],color='black',label=r'$\\pi,K$')\n",
    "plt.plot([],[],color='black',ls='--',label=r'$D,\\Lambda_c$')\n",
    "\n",
    "plt.xlabel('Energy [GeV]')\n",
    "plt.ylabel(r'Number of Neutrinos / bin / 150 fb$^{-1}$')\n",
    "plt.loglog()\n",
    "plt.legend()\n",
    "plt.show()"
   ]
  },
  {
   "cell_type": "code",
   "execution_count": null,
   "id": "e6bddbe3-3ac7-4d32-af43-c8bf4dc1a796",
   "metadata": {},
   "outputs": [],
   "source": [
    "light_simulation.CalculateLakeIntersectionsFromIP('LHCb',N)"
   ]
  },
  {
   "cell_type": "code",
   "execution_count": null,
   "id": "259ddcec-4e7a-4415-9895-8fcb034d8905",
   "metadata": {},
   "outputs": [],
   "source": [
    "fig = plt.figure(figsize=(10,6))\n",
    "plt.fill(list(Lake_data['Longitude']) + [Lake_data['Longitude'][0]],\n",
    "         list(Lake_data['Latitude']) + [Lake_data['Latitude'][0]],\n",
    "         color='blue',label='Lake Geneva',alpha=0.2,linewidth=2)\n",
    "Lake_Crossings = {}\n",
    "for k,color in zip(list(LHC_data.index),mcolors.TABLEAU_COLORS):\n",
    "    Lake_Crossings[k] = []\n",
    "    lines = plot_tangent_line_lat_long(LHC,\n",
    "                                       np.array(LHC_data.loc[k,['X','Y','Z']]),\n",
    "                                       np.array(LHC_data.loc[k,['CrossingOrientation','CrossingAngle']]),\n",
    "                                       limit=1 if 'Point' in k else 60000)\n",
    "    center, earth_points = lines[0] # all lines are essentially the same\n",
    "    plt.plot([p[1] for p in earth_points],\n",
    "            [p[0] for p in earth_points],color=color,ls='--')\n",
    "    plt.scatter(center[1],\n",
    "                center[0],\n",
    "                marker='*',color=color,label=k)\n",
    "    if 'Point' in k: continue # don't consider points without collisions\n",
    "    int1,int2 = calculate_intersections_with_lake(LHC,\n",
    "                                                np.array(LHC_data.loc[k,['X','Y','Z']]),\n",
    "                                                np.array(LHC_data.loc[k,['CrossingOrientation','CrossingAngle']]),\n",
    "                                                np.array(Lake_data[['Latitude','Longitude']]),\n",
    "                                                limit=50000000)\n",
    "    for intersections in (int1,int2):\n",
    "        if(type(intersections) == shapely.geometry.MultiLineString):\n",
    "            for intersection in intersections.geoms:\n",
    "                for coord in list(intersection.coords):\n",
    "                    Lake_Crossings[k].append(coord)\n",
    "                    plt.scatter(coord[1],coord[0],color=color)\n",
    "        else:\n",
    "            for coord in list(intersections.coords):\n",
    "                Lake_Crossings[k].append(coord)\n",
    "                plt.scatter(coord[1],coord[0],color=color)\n",
    "for ints in light_simulation.lake_intersections:\n",
    "    if len(ints)>0:\n",
    "        plt.plot(np.array(ints)[:,1],np.array(ints)[:,0],color='black',alpha=0.005)\n",
    "plt.xlabel('Longitude [deg]')\n",
    "plt.ylabel('Latitude [deg]')\n",
    "plt.legend(loc='lower right')\n",
    "plt.xlim(5.8,7.0)\n",
    "plt.ylim(46.1,46.6)\n",
    "plt.show()\n"
   ]
  },
  {
   "cell_type": "code",
   "execution_count": null,
   "id": "f473498c-703e-449a-a2df-0f6b0c000b3f",
   "metadata": {
    "scrolled": true,
    "tags": []
   },
   "outputs": [],
   "source": [
    "light_simulation.CalculateSurfaceIntersectionFromIP('LHCb',N)"
   ]
  },
  {
   "cell_type": "code",
   "execution_count": null,
   "id": "f744f1d8-1b0e-4be7-b950-531bcbb09a67",
   "metadata": {},
   "outputs": [],
   "source": [
    "plt.hist2d(light_simulation.surface_intersections_lat_long[:,1],\n",
    "           light_simulation.surface_intersections_lat_long[:,0],\n",
    "           bins=(np.linspace(5.8,7.0,50),np.linspace(46.1,46.6,50)),\n",
    "           weights = (light_simulation.data['wgt']*150*1000)[:N],\n",
    "           norm=matplotlib.colors.LogNorm())\n",
    "plt.colorbar()\n",
    "plt.show()"
   ]
  }
 ],
 "metadata": {
  "kernelspec": {
   "display_name": "lienv",
   "language": "python",
   "name": "lienv"
  },
  "language_info": {
   "codemirror_mode": {
    "name": "ipython",
    "version": 3
   },
   "file_extension": ".py",
   "mimetype": "text/x-python",
   "name": "python",
   "nbconvert_exporter": "python",
   "pygments_lexer": "ipython3",
   "version": "3.10.13"
  }
 },
 "nbformat": 4,
 "nbformat_minor": 5
}
