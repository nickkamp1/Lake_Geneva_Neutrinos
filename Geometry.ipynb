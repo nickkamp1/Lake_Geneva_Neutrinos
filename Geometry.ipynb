{
 "cells": [
  {
   "cell_type": "code",
   "execution_count": null,
   "metadata": {},
   "outputs": [],
   "source": [
    "# Standard libraries\n",
    "import numpy as np\n",
    "import pandas as pd\n",
    "import matplotlib.pyplot as plt\n",
    "import matplotlib.colors as mcolors\n",
    "import shapely\n",
    "\n",
    "# Function and class def|intions for defining LHC/Lake geometry\n",
    "from GeometryHelpers import *"
   ]
  },
  {
   "cell_type": "code",
   "execution_count": null,
   "metadata": {},
   "outputs": [],
   "source": [
    "LHC_data = pd.read_parquet('Data/LHC_data.parquet')\n",
    "Lake_data = pd.read_parquet('Data/Lake_data.parquet')\n",
    "\n",
    "# Define the LHC circle\n",
    "LHC = Circle(np.array(LHC_data.loc['Point4',['X','Y','Z']]),\n",
    "             np.array(LHC_data.loc['LHCb',['X','Y','Z']]),\n",
    "             np.array(LHC_data.loc['Point6',['X','Y','Z']])) # last entry can be Point 2 or 6\n",
    "\n",
    "# Fix elevation of other LHC interaction points based on LHC circle definition\n",
    "for k in list(LHC_data.index):\n",
    "    elev,point = LHC.find_elevation(*np.array(LHC_data.loc[k,['Latitude','Longitude']]))\n",
    "    LHC_data['Elevation'][k] = elev\n",
    "    LHC_data.loc[k,['X','Y','Z']] = lat_long_to_xyz(*LHC_data.loc[k,['Latitude','Longitude','Elevation']])"
   ]
  },
  {
   "cell_type": "code",
   "execution_count": null,
   "metadata": {},
   "outputs": [],
   "source": [
    "fig = plt.figure(figsize=(10,6))\n",
    "ax = fig.add_subplot(projection='3d')\n",
    "for k in list(LHC_data.index):\n",
    "    ax.scatter(*LHC_data.loc[k,['X','Y','Z']])\n",
    "ax.scatter(*np.array(Lake_data[['X','Y','Z']]).transpose(),color='blue')\n",
    "# for point in Lake_data[['X','Y','Z']]:\n",
    "#     ax.scatter(*point,color='blue')\n",
    "ax.plot(np.append(Lake_data['X'],Lake_data['X'][0]),\n",
    "        np.append(Lake_data['Y'],Lake_data['Y'][0]),\n",
    "        zs=np.append(Lake_data['Z'],Lake_data['Z'][0]),\n",
    "        color='blue')\n",
    "plt.legend(list(LHC_data.index))\n",
    "plt.xlabel('x')\n",
    "plt.ylabel('y')\n",
    "plt.tight_layout()\n",
    "plt.show()"
   ]
  },
  {
   "cell_type": "code",
   "execution_count": null,
   "metadata": {},
   "outputs": [],
   "source": [
    "fig = plt.figure(figsize=(9,6))\n",
    "plt.fill(list(Lake_data['Longitude']) + [Lake_data['Longitude'][0]],\n",
    "         list(Lake_data['Latitude']) + [Lake_data['Latitude'][0]],\n",
    "         color='blue',label='Lake Geneva',alpha=0.2,linewidth=2)\n",
    "Lake_Crossings = {}\n",
    "for k,color in zip(list(LHC_data.index),mcolors.TABLEAU_COLORS):\n",
    "    Lake_Crossings[k] = []\n",
    "    lines = plot_tangent_line_lat_long(LHC,\n",
    "                                       np.array(LHC_data.loc[k,['X','Y','Z']]),\n",
    "                                       np.array(LHC_data.loc[k,['CrossingOrientation','CrossingAngle']]),\n",
    "                                       limit=1 if 'Point' in k else 60000)\n",
    "    center, earth_points = lines[0] # all lines are essentially the same\n",
    "    plt.plot([p[1] for p in earth_points],\n",
    "            [p[0] for p in earth_points],color=color,ls='--')\n",
    "    plt.scatter(center[1],\n",
    "                center[0],\n",
    "                marker='*',color=color,label=k)\n",
    "    if 'Point' in k: continue # don't consider points without collisions\n",
    "    int1,int2 = calculate_intersections_with_lake(LHC,\n",
    "                                                np.array(LHC_data.loc[k,['X','Y','Z']]),\n",
    "                                                np.array(LHC_data.loc[k,['CrossingOrientation','CrossingAngle']]),\n",
    "                                                np.array(Lake_data[['Latitude','Longitude']]),\n",
    "                                                limit=50000000)\n",
    "    for intersections in (int1,int2):\n",
    "        if(type(intersections) == shapely.geometry.MultiLineString):\n",
    "            for intersection in intersections.geoms:\n",
    "                for coord in list(intersection.coords):\n",
    "                    Lake_Crossings[k].append(coord)\n",
    "                    plt.scatter(coord[1],coord[0],color=color)\n",
    "        else:\n",
    "            for coord in list(intersections.coords):\n",
    "                Lake_Crossings[k].append(coord)\n",
    "                plt.scatter(coord[1],coord[0],color=color)\n",
    "plt.xlabel('Longitude [deg]')\n",
    "plt.ylabel('Latitude [deg]')\n",
    "plt.legend(loc='lower right')\n",
    "plt.xlim(5.8,7.0)\n",
    "plt.ylim(46.1,46.6)\n",
    "plt.show()"
   ]
  },
  {
   "cell_type": "code",
   "execution_count": null,
   "metadata": {},
   "outputs": [],
   "source": [
    "for k in ['LHCb','CMS','ATLAS','Point6']:\n",
    "    plot_tangent_line(LHC,\n",
    "                      np.array(LHC_data.loc[k,['X','Y','Z']]),\n",
    "                      np.array(LHC_data.loc[k,['CrossingOrientation','CrossingAngle']]),\n",
    "                      limit=30000,\n",
    "                      Lake_Crossings=Lake_Crossings[k],\n",
    "                      label='Beam From %s'%k)\n",
    "    plt.show()"
   ]
  },
  {
   "cell_type": "code",
   "execution_count": null,
   "metadata": {},
   "outputs": [],
   "source": [
    "for k in ['LHCb','CMS','ATLAS']:\n",
    "    plot_crossing_angle_impact(LHC,\n",
    "                               np.array(LHC_data.loc[k,['X','Y','Z']]),\n",
    "                               np.array(LHC_data.loc[k,['CrossingAngle']])/2.,\n",
    "                               limit=30000,\n",
    "                               Lake_Crossings=Lake_Crossings[k],\n",
    "                               label='Beam From %s'%k)\n",
    "    plt.show()"
   ]
  }
 ],
 "metadata": {
  "kernelspec": {
   "display_name": "lienv",
   "language": "python",
   "name": "lienv"
  },
  "language_info": {
   "codemirror_mode": {
    "name": "ipython",
    "version": 3
   },
   "file_extension": ".py",
   "mimetype": "text/x-python",
   "name": "python",
   "nbconvert_exporter": "python",
   "pygments_lexer": "ipython3",
   "version": "3.10.13"
  }
 },
 "nbformat": 4,
 "nbformat_minor": 4
}
