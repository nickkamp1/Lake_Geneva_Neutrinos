{
 "cells": [
  {
   "cell_type": "code",
   "execution_count": 1,
   "id": "04bb1112-1fe5-4b3b-919c-d6a01fefddc3",
   "metadata": {},
   "outputs": [],
   "source": [
    "import siren"
   ]
  },
  {
   "cell_type": "code",
   "execution_count": 2,
   "id": "3a7ef884-9a8d-4b25-af98-884dd7a1838f",
   "metadata": {},
   "outputs": [],
   "source": [
    "from siren.SIREN_Controller import SIREN_Controller"
   ]
  },
  {
   "cell_type": "code",
   "execution_count": 3,
   "id": "10534474-b61f-4d8b-854b-70ce12c345cc",
   "metadata": {},
   "outputs": [],
   "source": [
    "import os"
   ]
  },
  {
   "cell_type": "code",
   "execution_count": 23,
   "id": "e229b99e-c1fa-4c61-b08c-e680bc686305",
   "metadata": {},
   "outputs": [],
   "source": [
    "import pandas as pd\n",
    "import numpy as np\n",
    "from MuonSimulationHelpers import get_flux_data"
   ]
  },
  {
   "cell_type": "code",
   "execution_count": 12,
   "id": "75fbb881-b529-4453-ba0f-027857ff0975",
   "metadata": {},
   "outputs": [],
   "source": [
    "input_file = np.loadtxt(\"../forward-nu-flux-fit/files/LHC13_EPOSLHC_light_0.txt\")\n",
    "flux_data = get_flux_data(\"LHC13\",\"EPOSLHC\",\"light\")\n",
    "flux_data.to_csv(\"Data/SIREN_Input/LHC13_EPOSLHC_light_0.txt\",index=False)"
   ]
  },
  {
   "cell_type": "code",
   "execution_count": 4,
   "id": "77ecad3c-bd92-4447-828a-d5b3b643bf75",
   "metadata": {},
   "outputs": [],
   "source": [
    "# Number of events to inject\n",
    "events_to_inject = int(9e4)\n",
    "\n",
    "# Expeirment to run\n",
    "experiment = \"LakeGeneva\"\n",
    "\n",
    "# Define the controller\n",
    "controller = SIREN_Controller(events_to_inject, experiment)\n",
    "\n",
    "# Particle to inject\n",
    "primary_type = siren.dataclasses.Particle.ParticleType.NuMu\n",
    "\n",
    "cross_section_model = \"CSMSDISSplines\"\n",
    "\n",
    "xsfiledir = siren.utilities.get_cross_section_model_path(cross_section_model)\n",
    "\n",
    "# Cross Section Model\n",
    "target_type = siren.dataclasses.Particle.ParticleType.Nucleon\n",
    "\n",
    "DIS_xs = siren.interactions.DISFromSpline(\n",
    "    os.path.join(xsfiledir, \"dsdxdy_nu_CC_iso.fits\"),\n",
    "    os.path.join(xsfiledir, \"sigma_nu_CC_iso.fits\"),\n",
    "    [primary_type],\n",
    "    [target_type], \"m\"\n",
    ")\n",
    "\n",
    "primary_xs = siren.interactions.InteractionCollection(primary_type, [DIS_xs])\n",
    "controller.SetInteractions(primary_xs)\n"
   ]
  },
  {
   "cell_type": "code",
   "execution_count": 5,
   "id": "b9da725e-8f5e-49ec-957b-204ce4ec36b8",
   "metadata": {},
   "outputs": [],
   "source": [
    "# Primary distributions\n",
    "primary_injection_distributions = {}\n",
    "primary_physical_distributions = {}\n",
    "\n",
    "primary_external_dist = siren.distributions.PrimaryExternalDistribution(\"Data/SIREN_Input/LHC13_EPOSLHC_light_0.txt\")\n",
    "primary_injection_distributions[\"external\"] = primary_external_dist\n",
    "\n",
    "\n",
    "fid_vol = controller.GetFiducialVolume()\n",
    "position_distribution = siren.distributions.PrimaryBoundedVertexDistribution(fid_vol)\n",
    "primary_injection_distributions[\"position\"] = position_distribution\n",
    "\n",
    "# SetProcesses\n",
    "controller.SetProcesses(\n",
    "    primary_type, primary_injection_distributions, primary_physical_distributions\n",
    ")\n",
    "\n",
    "controller.Initialize()"
   ]
  },
  {
   "cell_type": "code",
   "execution_count": 6,
   "id": "a7480b39-ec53-41f6-9f81-7dd5ece8fe4f",
   "metadata": {},
   "outputs": [
    {
     "name": "stdout",
     "output_type": "stream",
     "text": [
      "Injecting Event 89999/90000  \r"
     ]
    }
   ],
   "source": [
    "events = controller.GenerateEvents()"
   ]
  },
  {
   "cell_type": "code",
   "execution_count": 7,
   "id": "8459cc31-94ba-480e-bfd7-30b00ad27368",
   "metadata": {},
   "outputs": [
    {
     "name": "stdout",
     "output_type": "stream",
     "text": [
      "Saving Event 89999/90000  \r"
     ]
    }
   ],
   "source": [
    "controller.SaveEvents(\"Data/SIREN_Input/LHC13_EPOSLHC_light_0\")"
   ]
  },
  {
   "cell_type": "code",
   "execution_count": 8,
   "id": "7d7a56b1-1046-4f7a-9c95-c65e940bf285",
   "metadata": {},
   "outputs": [],
   "source": [
    "import awkward as ak"
   ]
  },
  {
   "cell_type": "code",
   "execution_count": 9,
   "id": "4a83c2a1-68ed-43a5-a51b-f4001d8e5c4f",
   "metadata": {},
   "outputs": [],
   "source": [
    "data = ak.from_parquet(\"Data/SIREN_Input/LHC13_EPOSLHC_light_0.parquet\")"
   ]
  },
  {
   "cell_type": "code",
   "execution_count": 34,
   "id": "5a0ac9fe-b74c-44f5-b6c7-a3ac9c6a5365",
   "metadata": {},
   "outputs": [],
   "source": [
    "muon_momenta = np.squeeze(data.secondary_momenta[:,:,0])\n",
    "hadron_momenta = np.squeeze(data.secondary_momenta[:,:,1])\n",
    "nu_momenta = np.squeeze(data.primary_momentum)"
   ]
  },
  {
   "cell_type": "code",
   "execution_count": 26,
   "id": "b7950077-5e19-46ac-b5a5-6168bdbef2e4",
   "metadata": {},
   "outputs": [],
   "source": [
    "import matplotlib.pyplot as plt"
   ]
  },
  {
   "cell_type": "code",
   "execution_count": 35,
   "id": "7740277f-fa10-46bf-998e-a727fe4471b0",
   "metadata": {},
   "outputs": [
    {
     "data": {
      "text/plain": [
       "[]"
      ]
     },
     "execution_count": 35,
     "metadata": {},
     "output_type": "execute_result"
    },
    {
     "data": {
      "image/png": "[encoded data removed]",
      "text/plain": [
       "<Figure size 640x480 with 1 Axes>"
      ]
     },
     "metadata": {},
     "output_type": "display_data"
    }
   ],
   "source": [
    "e_bins = np.logspace(-1,4,100)\n",
    "plt.hist(nu_momenta[:,0],bins=e_bins,alpha=0.5)\n",
    "plt.hist(muon_momenta[:,0],bins=e_bins,alpha=0.5)\n",
    "plt.hist(hadron_momenta[:,0],bins=e_bins,alpha=0.5)\n",
    "plt.loglog()"
   ]
  },
  {
   "cell_type": "code",
   "execution_count": null,
   "id": "ba62c044-be86-404c-a84e-d1bc5ae4fad2",
   "metadata": {},
   "outputs": [],
   "source": []
  }
 ],
 "metadata": {
  "kernelspec": {
   "display_name": "lienv",
   "language": "python",
   "name": "lienv"
  },
  "language_info": {
   "codemirror_mode": {
    "name": "ipython",
    "version": 3
   },
   "file_extension": ".py",
   "mimetype": "text/x-python",
   "name": "python",
   "nbconvert_exporter": "python",
   "pygments_lexer": "ipython3",
   "version": "3.10.13"
  }
 },
 "nbformat": 4,
 "nbformat_minor": 5
}
