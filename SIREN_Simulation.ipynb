{
 "cells": [
  {
   "cell_type": "code",
   "execution_count": 71,
   "id": "04bb1112-1fe5-4b3b-919c-d6a01fefddc3",
   "metadata": {},
   "outputs": [
    {
     "name": "stdout",
     "output_type": "stream",
     "text": [
      "The autoreload extension is already loaded. To reload it, use:\n",
      "  %reload_ext autoreload\n"
     ]
    }
   ],
   "source": [
    "%load_ext autoreload\n",
    "%autoreload 2\n",
    "import siren\n",
    "from siren.SIREN_Controller import SIREN_Controller\n",
    "import os\n",
    "import pandas as pd\n",
    "import numpy as np\n",
    "import awkward as ak\n",
    "import matplotlib.pyplot as plt\n",
    "from SIREN_Simulation import PrepareSIRENInputFromLHCb"
   ]
  },
  {
   "cell_type": "code",
   "execution_count": 75,
   "id": "75fbb881-b529-4453-ba0f-027857ff0975",
   "metadata": {},
   "outputs": [],
   "source": [
    "siren_intput_file = \"Data/SIREN_Input/LHC13_EPOSLHC_light_0.txt\"\n",
    "if not os.path.isfile(siren_intput_file):\n",
    "    flux_data = PrepareSIRENInputFromLHCb(\"LHC13\",\"EPOSLHC\",\"light\")\n",
    "    flux_data.to_csv(\"Data/SIREN_Input/LHC13_EPOSLHC_light_0.txt\",index=False)"
   ]
  },
  {
   "cell_type": "code",
   "execution_count": 175,
   "id": "77ecad3c-bd92-4447-828a-d5b3b643bf75",
   "metadata": {},
   "outputs": [],
   "source": [
    "# Number of events to inject\n",
    "events_to_inject = int(1e6)\n",
    "\n",
    "# Expeirment to run\n",
    "experiment = \"LakeGeneva\"\n",
    "\n",
    "# Define the controller\n",
    "controller = SIREN_Controller(events_to_inject, experiment)\n",
    "\n",
    "# Particle to inject\n",
    "primary_type = siren.dataclasses.Particle.ParticleType.NuMu\n",
    "\n",
    "cross_section_model = \"CSMSDISSplines\"\n",
    "\n",
    "xsfiledir = siren.utilities.get_cross_section_model_path(cross_section_model)\n",
    "\n",
    "# Cross Section Model\n",
    "target_type = siren.dataclasses.Particle.ParticleType.Nucleon\n",
    "\n",
    "DIS_xs = siren.interactions.DISFromSpline(\n",
    "    os.path.join(xsfiledir, \"dsdxdy_nu_CC_iso.fits\"),\n",
    "    os.path.join(xsfiledir, \"sigma_nu_CC_iso.fits\"),\n",
    "    [primary_type],\n",
    "    [target_type], \"m\"\n",
    ")\n",
    "\n",
    "primary_xs = siren.interactions.InteractionCollection(primary_type, [DIS_xs])\n",
    "controller.SetInteractions(primary_xs)\n"
   ]
  },
  {
   "cell_type": "code",
   "execution_count": 176,
   "id": "55e4c8c5-8c6f-456c-9534-75381e5cd00d",
   "metadata": {},
   "outputs": [],
   "source": [
    "panel_1 = controller.detector_model.GetSector(\"panel5_1\")\n",
    "panel_2 = controller.detector_model.GetSector(\"panel5_2\")\n",
    "panel_3 = controller.detector_model.GetSector(\"panel5_3\")\n",
    "\n",
    "def GetPanelIntersections(location, direction):\n",
    "    _loc = controller.detector_model.GeoPositionToDetPosition(siren.detector.GeometryPosition(siren.math.Vector3D(location))).get()\n",
    "    _dir = controller.detector_model.GeoDirectionToDetDirection(siren.detector.GeometryDirection(siren.math.Vector3D(direction))).get()\n",
    "    return (panel_1.geo.ComputeIntersections(_loc, _dir),\n",
    "            panel_2.geo.ComputeIntersections(_loc, _dir),\n",
    "            panel_3.geo.ComputeIntersections(_loc, _dir))\n"
   ]
  },
  {
   "cell_type": "code",
   "execution_count": 177,
   "id": "b9da725e-8f5e-49ec-957b-204ce4ec36b8",
   "metadata": {},
   "outputs": [],
   "source": [
    "# Primary distributions\n",
    "primary_injection_distributions = {}\n",
    "primary_physical_distributions = {}\n",
    "\n",
    "primary_external_dist = siren.distributions.PrimaryExternalDistribution(\"Data/SIREN_Input/LHC13_EPOSLHC_light_0.txt\")\n",
    "primary_injection_distributions[\"external\"] = primary_external_dist\n",
    "\n",
    "\n",
    "fid_vol = controller.GetFiducialVolume()\n",
    "position_distribution = siren.distributions.PrimaryBoundedVertexDistribution(fid_vol)\n",
    "primary_injection_distributions[\"position\"] = position_distribution\n",
    "\n",
    "# SetProcesses\n",
    "controller.SetProcesses(\n",
    "    primary_type, primary_injection_distributions, primary_physical_distributions\n",
    ")\n",
    "\n",
    "controller.Initialize()"
   ]
  },
  {
   "cell_type": "code",
   "execution_count": null,
   "id": "a7480b39-ec53-41f6-9f81-7dd5ece8fe4f",
   "metadata": {
    "tags": []
   },
   "outputs": [
    {
     "name": "stdout",
     "output_type": "stream",
     "text": [
      "Injecting Event 429246/1000000  \r"
     ]
    }
   ],
   "source": [
    "events = controller.GenerateEvents()"
   ]
  },
  {
   "cell_type": "code",
   "execution_count": null,
   "id": "8459cc31-94ba-480e-bfd7-30b00ad27368",
   "metadata": {},
   "outputs": [],
   "source": [
    "controller.SaveEvents(\"Data/SIREN_Input/LHC13_EPOSLHC_light_0\",\n",
    "                      save_int_probs=True,\n",
    "                      save_int_params=True)"
   ]
  },
  {
   "cell_type": "code",
   "execution_count": null,
   "id": "4a83c2a1-68ed-43a5-a51b-f4001d8e5c4f",
   "metadata": {},
   "outputs": [],
   "source": [
    "data = ak.from_parquet(\"Data/SIREN_Input/LHC13_EPOSLHC_light_0.parquet\")"
   ]
  },
  {
   "cell_type": "code",
   "execution_count": null,
   "id": "5a0ac9fe-b74c-44f5-b6c7-a3ac9c6a5365",
   "metadata": {},
   "outputs": [],
   "source": [
    "muon_momenta = np.array(np.squeeze(data.secondary_momenta[:,:,0]))\n",
    "hadron_momenta = np.squeeze(data.secondary_momenta[:,:,1])\n",
    "nu_momenta = np.squeeze(data.primary_momentum)\n",
    "mu_vertex = np.squeeze(data.vertex)\n",
    "muon_momentum = np.array(np.linalg.norm(muon_momenta[:,1:],axis=1))\n",
    "mu_dir = muon_momenta[:,1:] / np.expand_dims(muon_momentum,-1)"
   ]
  },
  {
   "cell_type": "code",
   "execution_count": null,
   "id": "7740277f-fa10-46bf-998e-a727fe4471b0",
   "metadata": {},
   "outputs": [],
   "source": [
    "lumi = 3000 #HL\n",
    "\n",
    "e_bins = np.logspace(1,4,30)\n",
    "weights = np.squeeze(data.wgt) * lumi * 1000 * np.squeeze(data.int_probs)\n",
    "plt.hist(nu_momenta[:,0],bins=e_bins,alpha=0.5,weights=weights)\n",
    "plt.hist(muon_momenta[:,0],bins=e_bins,alpha=0.5,weights=weights)\n",
    "plt.hist(hadron_momenta[:,0],bins=e_bins,alpha=0.5,weights=weights)\n",
    "plt.loglog()"
   ]
  },
  {
   "cell_type": "code",
   "execution_count": null,
   "id": "ba62c044-be86-404c-a84e-d1bc5ae4fad2",
   "metadata": {},
   "outputs": [],
   "source": [
    "panel_intersections = []\n",
    "mu_x = []\n",
    "mu_y = []\n",
    "for mv,md in zip(mu_vertex,mu_dir):\n",
    "    dz = panel_2.geo.placement.Position.GetZ() - mv[2]\n",
    "    delx = dz/md[2]*md[0]\n",
    "    dely = dz/md[2]*md[1]\n",
    "    mu_x.append(mv[0] + delx)\n",
    "    mu_y.append(mv[1] + dely)\n",
    "    panel_intersections.append(GetPanelIntersections(mv,md))"
   ]
  },
  {
   "cell_type": "code",
   "execution_count": null,
   "id": "04d53cbd-2f8c-4dc1-8939-e26abe8fd50d",
   "metadata": {},
   "outputs": [],
   "source": [
    "\n",
    "\n",
    "hit_map = np.sum([[len(arr)>0 for arr in ints]for ints in panel_intersections],axis=-1)\n",
    "zbins = np.linspace(9200,19800,50)\n",
    "xybins = np.linspace(-10,10,50)\n",
    "plt.hist2d(np.array(mu_vertex[:,0]),\n",
    "           np.array(mu_vertex[:,1]),\n",
    "           bins = xybins)\n",
    "plt.show()\n",
    "\n",
    "plt.hist2d(np.array(mu_vertex[:,2]),\n",
    "           np.array(mu_vertex[:,1]),\n",
    "           bins = (zbins,xybins))\n",
    "plt.show()\n",
    "\n",
    "#plt.hist(np.array(mu_vertex[:,2]),bins=zbins)\n",
    "weights = np.array(np.squeeze(data.wgt) * lumi * 1000 * np.squeeze(data.int_probs))\n",
    "weights *= events_to_inject / 2e5 # correct for sampling\n",
    "\n",
    "plt.hist(np.array(mu_vertex[:,2])[hit_map==0],bins=zbins,weights=weights[hit_map==0],histtype=\"step\")\n",
    "plt.hist(np.array(mu_vertex[:,2])[hit_map==3],bins=zbins,weights=weights[hit_map==3],histtype=\"step\")\n",
    "plt.semilogy()\n",
    "plt.show()\n",
    "\n",
    "plt.hist2d(mu_x,\n",
    "           mu_y,\n",
    "           bins = (xybins,xybins),\n",
    "           weights=weights*(hit_map>0))\n",
    "plt.show()\n",
    "\n",
    "mu_radii = np.sqrt(np.array(mu_x)**2 + np.array(mu_y)**2)\n",
    "plt.hist(mu_radii,bins=np.linspace(0,100,100))\n",
    "plt.show()\n",
    "\n",
    "weights = np.array(np.squeeze(data.wgt) * lumi * 1000 * np.squeeze(data.int_probs) * (hit_map>0))\n",
    "weights *= events_to_inject / 2e5 # correct for sampling\n",
    "plt.hist(nu_momenta[:,0],bins=e_bins,alpha=0.5,weights=weights)\n",
    "plt.hist(muon_momenta[:,0],bins=e_bins,alpha=0.5,weights=weights)\n",
    "plt.hist(hadron_momenta[:,0],bins=e_bins,alpha=0.5,weights=weights)\n",
    "plt.loglog()"
   ]
  },
  {
   "cell_type": "code",
   "execution_count": null,
   "id": "f594dea7-543b-4921-ad4b-b790e3bf4a0b",
   "metadata": {},
   "outputs": [],
   "source": []
  }
 ],
 "metadata": {
  "kernelspec": {
   "display_name": "lienv",
   "language": "python",
   "name": "lienv"
  },
  "language_info": {
   "codemirror_mode": {
    "name": "ipython",
    "version": 3
   },
   "file_extension": ".py",
   "mimetype": "text/x-python",
   "name": "python",
   "nbconvert_exporter": "python",
   "pygments_lexer": "ipython3",
   "version": "3.10.13"
  }
 },
 "nbformat": 4,
 "nbformat_minor": 5
}
