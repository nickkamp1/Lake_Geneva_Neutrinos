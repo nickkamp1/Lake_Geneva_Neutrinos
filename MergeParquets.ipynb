{
 "cells": [
  {
   "cell_type": "code",
   "execution_count": 1,
   "id": "475db34f-8704-4909-9501-9686f4241666",
   "metadata": {},
   "outputs": [],
   "source": [
    "import pyarrow.parquet as pq\n",
    "import glob\n",
    "\n",
    "def merge_parquets(tag):\n",
    "    files = glob.glob(\"Data/MuonSimulation/fresh/*%s*\"%tag)\n",
    "    schema = pq.ParquetFile(files[0]).schema_arrow\n",
    "    with pq.ParquetWriter(\"Data/MuonSimulation/tmp/LHCb_LHC13_%s.parquet\"%tag, schema=schema) as writer:\n",
    "        for file in files:\n",
    "            writer.write_table(pq.read_table(file, schema=schema))\n",
    "\n",
    "\n",
    "\n"
   ]
  },
  {
   "cell_type": "code",
   "execution_count": 5,
   "id": "da1e13e0-0a77-499e-b058-8985f35ebf5b",
   "metadata": {},
   "outputs": [
    {
     "name": "stdout",
     "output_type": "stream",
     "text": [
      "EPOSLHC_light_lake_CC_14000_100\n",
      "BKSS_charm_lake_CC_14000_100\n",
      "DPMJET_light_lake_CC_14000_100\n",
      "BKRS_charm_lake_CC_14000_100\n",
      "SIBYLL_light_lake_CC_14000_100\n",
      "SIBYLL_charm_lake_CC_14000_100\n",
      "QGSJET_light_lake_CC_14000_100\n",
      "BDGJKR_charm_lake_CC_14000_100\n",
      "PYTHIA8_light_lake_CC_14000_100\n",
      "MS_charm_lake_CC_14000_100\n"
     ]
    }
   ],
   "source": [
    "for gen_tag in [\"EPOSLHC_light\",\n",
    "                \"BKSS_charm\",\n",
    "                \"DPMJET_light\",\n",
    "                \"BKRS_charm\",\n",
    "                \"SIBYLL_light\",\n",
    "                \"SIBYLL_charm\",\n",
    "                \"QGSJET_light\",\n",
    "                \"BDGJKR_charm\",\n",
    "                \"PYTHIA8_light\",\n",
    "                \"MS_charm\"]:\n",
    "    for dm in [\"lake\"]:\n",
    "        for xm in [\"CC\",\"NC\"]:\n",
    "            if xm==\"NC\" and dm!=\"lake\": continue\n",
    "            for lc in [14000]:\n",
    "                if lc==14000 and xm==\"NC\": continue\n",
    "                tag = \"%s_%s_%s_%d_100\"%(gen_tag,dm,xm,lc)\n",
    "                print(tag)\n",
    "                merge_parquets(tag)"
   ]
  },
  {
   "cell_type": "code",
   "execution_count": null,
   "id": "792db9dd-c12e-401c-b074-6ce8e3624ce6",
   "metadata": {},
   "outputs": [],
   "source": []
  }
 ],
 "metadata": {
  "kernelspec": {
   "display_name": "lienv",
   "language": "python",
   "name": "lienv"
  },
  "language_info": {
   "codemirror_mode": {
    "name": "ipython",
    "version": 3
   },
   "file_extension": ".py",
   "mimetype": "text/x-python",
   "name": "python",
   "nbconvert_exporter": "python",
   "pygments_lexer": "ipython3",
   "version": "3.10.13"
  }
 },
 "nbformat": 4,
 "nbformat_minor": 5
}
